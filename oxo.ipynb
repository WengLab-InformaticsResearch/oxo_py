{
 "cells": [
  {
   "cell_type": "code",
   "execution_count": 1,
   "metadata": {
    "collapsed": true
   },
   "outputs": [],
   "source": [
    "from OxO import OxO"
   ]
  },
  {
   "cell_type": "code",
   "execution_count": 2,
   "metadata": {
    "scrolled": false
   },
   "outputs": [
    {
     "data": {
      "text/plain": [
       "{'EFO:0000311': 1,\n",
       " 'EFO:0000616': 2,\n",
       " 'HP:0002664': 2,\n",
       " 'ICD10CM:C80': 1,\n",
       " 'ICD10CM:C80.1': 1,\n",
       " 'ICD9CM:199': 1,\n",
       " 'MONDO:0004992': 1,\n",
       " 'MONDO:0005070': 2,\n",
       " 'MeSH:D009369': 1,\n",
       " 'MeSH:D009371': 2,\n",
       " 'MedDRA:10028997': 2,\n",
       " 'NCIT:C9305': 1,\n",
       " 'SNOMEDCT:154432008': 1,\n",
       " 'SNOMEDCT:154433003': 1,\n",
       " 'SNOMEDCT:154577008': 1,\n",
       " 'SNOMEDCT:187597000': 1,\n",
       " 'SNOMEDCT:188475001': 1,\n",
       " 'SNOMEDCT:188482002': 1,\n",
       " 'SNOMEDCT:190150006': 1,\n",
       " 'SNOMEDCT:269513004': 1,\n",
       " 'SNOMEDCT:269623003': 1,\n",
       " 'SNOMEDCT:269626006': 1,\n",
       " 'SNOMEDCT:269634000': 1,\n",
       " 'SNOMEDCT:363346000': 1,\n",
       " 'SNOMEDCT:38807002': 1,\n",
       " 'UMLS:C0006826': 1,\n",
       " 'UMLS:C0027651': 2,\n",
       " 'UMLS:C0086692': 2,\n",
       " 'UMLS:C0865023': 2,\n",
       " 'UMLS:C1306459': 2,\n",
       " 'UMLS:C1579212': 2,\n",
       " 'UMLS:C1579213': 2,\n",
       " 'UMLS:C2242772': 2,\n",
       " 'UMLS:C2853710': 2}"
      ]
     },
     "execution_count": 2,
     "metadata": {},
     "output_type": "execute_result"
    }
   ],
   "source": [
    "OxO.find_mappings('DOID:162')"
   ]
  },
  {
   "cell_type": "code",
   "execution_count": 3,
   "metadata": {},
   "outputs": [
    {
     "data": {
      "text/plain": [
       "{'MeSH:D016898': 1,\n",
       " 'SNOMEDCT:136111001': 1,\n",
       " 'SNOMEDCT:411113009': 1,\n",
       " 'SNOMEDCT:45754009': 1}"
      ]
     },
     "execution_count": 3,
     "metadata": {},
     "output_type": "execute_result"
    }
   ],
   "source": [
    "OxO.find_mappings('UMLS:C0002199', distance=3)"
   ]
  },
  {
   "cell_type": "code",
   "execution_count": 4,
   "metadata": {},
   "outputs": [
    {
     "data": {
      "text/plain": [
       "{'MeSH:D016898': 2,\n",
       " 'UMLS:C0002199': 1,\n",
       " 'UMLS:C0219697': 3,\n",
       " 'UMLS:C0391393': 3,\n",
       " 'UMLS:C1098214': 3,\n",
       " 'UMLS:C2937361': 3,\n",
       " 'UMLS:C3887953': 3,\n",
       " 'UMLS:C3887954': 3}"
      ]
     },
     "execution_count": 4,
     "metadata": {},
     "output_type": "execute_result"
    }
   ],
   "source": [
    "OxO.find_mappings('SNOMEDCT:136111001', distance=3, targets=['MeSH', 'UMLS'])"
   ]
  }
 ],
 "metadata": {
  "kernelspec": {
   "display_name": "Python 3",
   "language": "python",
   "name": "python3"
  },
  "language_info": {
   "codemirror_mode": {
    "name": "ipython",
    "version": 3
   },
   "file_extension": ".py",
   "mimetype": "text/x-python",
   "name": "python",
   "nbconvert_exporter": "python",
   "pygments_lexer": "ipython3",
   "version": "3.6.3"
  }
 },
 "nbformat": 4,
 "nbformat_minor": 2
}
